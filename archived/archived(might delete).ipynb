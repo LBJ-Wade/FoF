{
 "metadata": {
  "language_info": {
   "codemirror_mode": {
    "name": "ipython",
    "version": 3
   },
   "file_extension": ".py",
   "mimetype": "text/x-python",
   "name": "python",
   "nbconvert_exporter": "python",
   "pygments_lexer": "ipython3",
   "version": "3.6.4-final"
  },
  "orig_nbformat": 2,
  "kernelspec": {
   "name": "Python 3.6.4 64-bit",
   "display_name": "Python 3.6.4 64-bit",
   "metadata": {
    "interpreter": {
     "hash": "7a8cc29d2af5e2c468058720211f3eb8975f48b17a084e21a9f9e86237c8ec6a"
    }
   }
  }
 },
 "nbformat": 4,
 "nbformat_minor": 2,
 "cells": [
  {
   "cell_type": "code",
   "execution_count": 1,
   "metadata": {},
   "outputs": [],
   "source": [
    "import numpy as np\n",
    "import matplotlib.pyplot as plt\n",
    "from astropy.table import Table, setdiff, join, unique, vstack\n",
    "from astropy import units as u\n",
    "from astropy.coordinates import SkyCoord\n",
    "from astropy.cosmology import WMAP5 as cosmo\n",
    "import astropy.constants as const\n",
    "import itertools"
   ]
  },
  {
   "cell_type": "code",
   "execution_count": 2,
   "metadata": {},
   "outputs": [],
   "source": [
    "# path = 'C:\\\\Users\\\\Kenneth\\\\Desktop\\\\fyp\\\\datasets'\n",
    "data = Table.read('datasets/mass_complete_env_cleaned.csv')"
   ]
  },
  {
   "cell_type": "code",
   "execution_count": 3,
   "metadata": {},
   "outputs": [],
   "source": [
    "central = np.where(data['galaxy_type'] == 'central')\n",
    "central_galaxies = data[central] # 333 unique central galaxies"
   ]
  },
  {
   "cell_type": "code",
   "execution_count": 4,
   "metadata": {},
   "outputs": [],
   "source": [
    "satellite = np.where(data['galaxy_type'] == 'satellite')\n",
    "satellite_galaxies = data[satellite] # 7221 unique satellite galaxies"
   ]
  },
  {
   "cell_type": "code",
   "execution_count": 5,
   "metadata": {},
   "outputs": [
    {
     "output_type": "execute_result",
     "data": {
      "text/plain": [
       "332"
      ]
     },
     "metadata": {},
     "execution_count": 5
    }
   ],
   "source": [
    "# check for missing groups\n",
    "missing_groups_gal_id = setdiff(central_galaxies, satellite_galaxies, keys='group_id')['id']\n",
    "mask = np.logical_and.reduce([central_galaxies['id'] != missing_groups_gal_id])\n",
    "central_galaxies = central_galaxies[mask] # remove independent central galaxy\n",
    "len(central_galaxies) # 332 central galaxies with groups"
   ]
  },
  {
   "cell_type": "code",
   "execution_count": 6,
   "metadata": {},
   "outputs": [
    {
     "output_type": "execute_result",
     "data": {
      "text/plain": [
       "7221"
      ]
     },
     "metadata": {},
     "execution_count": 6
    }
   ],
   "source": [
    "joined_satellite_galaxies = join(satellite_galaxies, central_galaxies['id', 'group_id'], keys='group_id') # add central galaxy id column to satellite galaxies\n",
    "joined_satellite_galaxies.rename_column('id_2', 'ccg')\n",
    "joined_satellite_galaxies.rename_column('id_1', 'id')\n",
    "central_galaxies.remove_columns(['col0', 's_cluster', 's_filament', 'galaxy_type', 'environment']) # remove unnecessary columns\n",
    "joined_satellite_galaxies.remove_columns(['col0', 's_cluster', 's_filament', 'galaxy_type'])\n",
    "len(satellite_galaxies)"
   ]
  },
  {
   "cell_type": "code",
   "execution_count": 7,
   "metadata": {},
   "outputs": [],
   "source": [
    "combined_galaxies = vstack([joined_satellite_galaxies, central_galaxies]) # 7426 total galaxies\n",
    "# len(joined_satellite_galaxies)+len(central_galaxies)\n",
    "gal_groups = combined_galaxies.group_by('group_id')"
   ]
  },
  {
   "cell_type": "code",
   "execution_count": 8,
   "metadata": {},
   "outputs": [],
   "source": [
    "# convert photo_z to los_vel\n",
    "def redshift_to_velocity(z):\n",
    "    c = const.c.to('m/s')\n",
    "    v = c*((1+z)**2 - 1)/((1+z)**2 + 1)\n",
    "    return v"
   ]
  },
  {
   "cell_type": "code",
   "execution_count": 9,
   "metadata": {},
   "outputs": [],
   "source": [
    "# calculate velocity dispersion for an array of velocities\n",
    "def vel_disp(v_arr):\n",
    "    return np.sum(v_arr**2)/len(v_arr)"
   ]
  },
  {
   "cell_type": "code",
   "execution_count": 1,
   "metadata": {},
   "outputs": [],
   "source": [
    "# for all groups\n",
    "# vel_disp_arr = np.zeros(len(gal_groups.groups))\n",
    "# gal_group_avg = gal_groups.groups.aggregate(np.mean)['photo_z']\n",
    "\n",
    "# for i, group in enumerate(gal_groups.groups):\n",
    "#     gal_group_doppler_z = np.array(group['photo_z']) - gal_group_avg[i]\n",
    "#     gal_group_vel = redshift_redshift_to_velocity(gal_group_doppler_z)\n",
    "#     gal_group_vel_disp = vel_disp(gal_group_vel)\n",
    "#     vel_disp_arr[i] = gal_group_vel_disp"
   ]
  },
  {
   "cell_type": "code",
   "execution_count": 11,
   "metadata": {},
   "outputs": [
    {
     "output_type": "execute_result",
     "data": {
      "text/plain": [
       "<Quantity 7.86412569e+12 m2 / s2>"
      ],
      "text/latex": "$7.8641257 \\times 10^{12} \\; \\mathrm{\\frac{m^{2}}{s^{2}}}$"
     },
     "metadata": {},
     "execution_count": 11
    }
   ],
   "source": [
    "# for first group\n",
    "group1 = gal_groups.groups[0]\n",
    "group_average = group1['photo_z'].mean()\n",
    "doppler_z = np.array(group1['photo_z']) - group_average\n",
    "group_vel = redshift_to_velocity(doppler_z)\n",
    "group_vel_disp = vel_disp(group_vel)\n",
    "group_vel_disp"
   ]
  },
  {
   "cell_type": "code",
   "execution_count": 12,
   "metadata": {},
   "outputs": [],
   "source": [
    "def separation(ccg, galaxy):\n",
    "    # c1 = SkyCoord(ra=ccg[0]*u.degree, dec=ccg[1]*u.degree)\n",
    "    # c2 = SkyCoord(ra=galaxy[0]*u.degree, dec=galaxy[1]*u.degree)\n",
    "    sep = c1.separation(c2).to(u.rad)\n",
    "    d_A = cosmo.angular_diameter_distance(z=ccg[2])\n",
    "    actual_sep = (sep*d_A).to(u.Mpc, u.dimensionless_angles())\n",
    "    return actual_sep"
   ]
  },
  {
   "cell_type": "code",
   "execution_count": 13,
   "metadata": {},
   "outputs": [],
   "source": [
    "# for first group\n",
    "\n",
    "photoz_arr = np.asarray(group1['photo_z']) # array of photo z\n",
    "c = SkyCoord(ra=group1['ra']*u.degree, dec=group1['dec']*u.degree) # array of coordinates\n",
    "\n",
    "pairs_idx = np.asarray(list((i,j) for ((i,_), (j,_)) in itertools.combinations(enumerate(c), 2))) # index of gals in combinations\n",
    "photoz_pairs = np.take(photoz_arr, pairs_idx)\n",
    "d_A = cosmo.angular_diameter_distance(z=photoz_pairs)\n",
    "\n",
    "pairs = np.asarray(list(itertools.combinations(c,2))) # pairwise combinations\n",
    "separations = np.zeros(len(pairs))*(1/u.Mpc)\n",
    "for idx, pair in enumerate(pairs):\n",
    "    sep = pair[0].separation(pair[1])\n",
    "    actual_sep = (sep*d_A[idx, 0]).to(u.Mpc, u.dimensionless_angles())\n",
    "    separations[idx] = (1/actual_sep)\n",
    "\n",
    "separation = sum(separations)"
   ]
  },
  {
   "cell_type": "code",
   "execution_count": 14,
   "metadata": {
    "tags": []
   },
   "outputs": [],
   "source": [
    "# for all groups\n",
    "# group_separations = np.zeros(len(gal_groups.groups))\n",
    "\n",
    "# for i, group in enumerate(gal_groups.groups):\n",
    "#     separations = 0\n",
    "#     arr = np.array(list(zip(group['ra'], group['dec'], group['photo_z'])))\n",
    "#     for pair in itertools.combinations(arr, 2):\n",
    "#         separations += (1/separation(*pair))\n",
    "#     group_separations[i] = separations"
   ]
  },
  {
   "cell_type": "code",
   "execution_count": 22,
   "metadata": {},
   "outputs": [],
   "source": [
    "def group_radius(group_size, separation):\n",
    "    return group_size*(group_size-1)*(1/separation).to(u.m)"
   ]
  },
  {
   "cell_type": "code",
   "execution_count": 23,
   "metadata": {},
   "outputs": [],
   "source": [
    "# for all groups\n",
    "# group_sizes = [len(i) for i in gal_groups.groups]\n",
    "# group_radius(group_separations)"
   ]
  },
  {
   "cell_type": "code",
   "execution_count": 26,
   "metadata": {},
   "outputs": [
    {
     "output_type": "execute_result",
     "data": {
      "text/plain": [
       "<Quantity 4.05487586e+22 m>"
      ],
      "text/latex": "$4.0548759 \\times 10^{22} \\; \\mathrm{m}$"
     },
     "metadata": {},
     "execution_count": 26
    }
   ],
   "source": [
    "# for first group\n",
    "group_radius = group_radius(len(group1), separation)\n",
    "group_radius"
   ]
  },
  {
   "cell_type": "code",
   "execution_count": 27,
   "metadata": {},
   "outputs": [],
   "source": [
    "def group_mass(group_vel_disp, group_radius):\n",
    "    mass = (3/2)*np.pi*(group_vel_disp*group_radius)/const.G\n",
    "    return mass.to(u.M_sun)"
   ]
  },
  {
   "cell_type": "code",
   "execution_count": 28,
   "metadata": {},
   "outputs": [],
   "source": [
    "# first group\n",
    "mass = group_mass(group_vel_disp, group_radius)"
   ]
  },
  {
   "cell_type": "code",
   "execution_count": 29,
   "metadata": {},
   "outputs": [
    {
     "output_type": "execute_result",
     "data": {
      "text/plain": [
       "1.1322895683699952e+16"
      ]
     },
     "metadata": {},
     "execution_count": 29
    }
   ],
   "source": []
  }
 ]
}